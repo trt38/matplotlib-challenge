{
  "nbformat": 4,
  "nbformat_minor": 0,
  "metadata": {
    "colab": {
      "name": "Pymaceuticals.ipynb",
      "provenance": []
    },
    "kernelspec": {
      "name": "python3",
      "display_name": "Python 3"
    }
  },
  "cells": [
    {
      "cell_type": "markdown",
      "metadata": {
        "id": "xUY01DMhKlq-",
        "colab_type": "text"
      },
      "source": [
        "## **Setup**"
      ]
    },
    {
      "cell_type": "code",
      "metadata": {
        "id": "uTooH0QV8TsG",
        "colab_type": "code",
        "colab": {
          "resources": {
            "http://localhost:8080/nbextensions/google.colab/files.js": {
              "data": "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",
              "ok": true,
              "headers": [
                [
                  "content-type",
                  "application/javascript"
                ]
              ],
              "status": 200,
              "status_text": ""
            }
          },
          "base_uri": "https://localhost:8080/",
          "height": 106
        },
        "outputId": "234ef8f4-38e8-449e-8ad8-c0f523da7f92"
      },
      "source": [
        "# Add files to Google Colab\n",
        "from google.colab import files\n",
        "uploaded = files.upload()"
      ],
      "execution_count": 5,
      "outputs": [
        {
          "output_type": "display_data",
          "data": {
            "text/html": [
              "\n",
              "     <input type=\"file\" id=\"files-68d51e57-cee1-464a-9ab7-908a23652c99\" name=\"files[]\" multiple disabled\n",
              "        style=\"border:none\" />\n",
              "     <output id=\"result-68d51e57-cee1-464a-9ab7-908a23652c99\">\n",
              "      Upload widget is only available when the cell has been executed in the\n",
              "      current browser session. Please rerun this cell to enable.\n",
              "      </output>\n",
              "      <script src=\"/nbextensions/google.colab/files.js\"></script> "
            ],
            "text/plain": [
              "<IPython.core.display.HTML object>"
            ]
          },
          "metadata": {
            "tags": []
          }
        },
        {
          "output_type": "stream",
          "text": [
            "Saving Mouse_metadata.csv to Mouse_metadata.csv\n",
            "Saving Study_results.csv to Study_results.csv\n"
          ],
          "name": "stdout"
        }
      ]
    },
    {
      "cell_type": "code",
      "metadata": {
        "id": "ofmKtGLy6tXJ",
        "colab_type": "code",
        "colab": {}
      },
      "source": [
        "# Dependencies and Setup\n",
        "import matplotlib.pyplot as plt\n",
        "import pandas as pd\n",
        "import scipy.stats as st\n",
        "import numpy as np\n",
        "from scipy import stats"
      ],
      "execution_count": 169,
      "outputs": []
    },
    {
      "cell_type": "code",
      "metadata": {
        "id": "RfkZsryZ81JK",
        "colab_type": "code",
        "colab": {}
      },
      "source": [
        "# Study data files\n",
        "mouse_metadata_path = \"Mouse_metadata.csv\"\n",
        "study_results_path = \"Study_results.csv\""
      ],
      "execution_count": 13,
      "outputs": []
    },
    {
      "cell_type": "markdown",
      "metadata": {
        "id": "SvUps19TK15v",
        "colab_type": "text"
      },
      "source": [
        "## **Observations and Insights**"
      ]
    },
    {
      "cell_type": "code",
      "metadata": {
        "id": "-WKtoCc_9b7K",
        "colab_type": "code",
        "colab": {}
      },
      "source": [
        "# Read the mouse data and the study results\n",
        "mouse_metadata = pd.read_csv(mouse_metadata_path)\n",
        "study_results = pd.read_csv(study_results_path)\n"
      ],
      "execution_count": 14,
      "outputs": []
    },
    {
      "cell_type": "code",
      "metadata": {
        "id": "KS7pO3eN9g0h",
        "colab_type": "code",
        "colab": {
          "base_uri": "https://localhost:8080/",
          "height": 419
        },
        "outputId": "bfc40591-e21e-465b-e1e1-13d6cff9f59c"
      },
      "source": [
        "# Combine the data into a single dataset\n",
        "\n",
        "merge_df = pd.merge(mouse_metadata, study_results, on=\"Mouse ID\", how=\"outer\")\n",
        "\n",
        "# Display the data table for preview\n",
        "\n",
        "merge_df"
      ],
      "execution_count": 15,
      "outputs": [
        {
          "output_type": "execute_result",
          "data": {
            "text/html": [
              "<div>\n",
              "<style scoped>\n",
              "    .dataframe tbody tr th:only-of-type {\n",
              "        vertical-align: middle;\n",
              "    }\n",
              "\n",
              "    .dataframe tbody tr th {\n",
              "        vertical-align: top;\n",
              "    }\n",
              "\n",
              "    .dataframe thead th {\n",
              "        text-align: right;\n",
              "    }\n",
              "</style>\n",
              "<table border=\"1\" class=\"dataframe\">\n",
              "  <thead>\n",
              "    <tr style=\"text-align: right;\">\n",
              "      <th></th>\n",
              "      <th>Mouse ID</th>\n",
              "      <th>Drug Regimen</th>\n",
              "      <th>Sex</th>\n",
              "      <th>Age_months</th>\n",
              "      <th>Weight (g)</th>\n",
              "      <th>Timepoint</th>\n",
              "      <th>Tumor Volume (mm3)</th>\n",
              "      <th>Metastatic Sites</th>\n",
              "    </tr>\n",
              "  </thead>\n",
              "  <tbody>\n",
              "    <tr>\n",
              "      <th>0</th>\n",
              "      <td>k403</td>\n",
              "      <td>Ramicane</td>\n",
              "      <td>Male</td>\n",
              "      <td>21</td>\n",
              "      <td>16</td>\n",
              "      <td>0</td>\n",
              "      <td>45.000000</td>\n",
              "      <td>0</td>\n",
              "    </tr>\n",
              "    <tr>\n",
              "      <th>1</th>\n",
              "      <td>k403</td>\n",
              "      <td>Ramicane</td>\n",
              "      <td>Male</td>\n",
              "      <td>21</td>\n",
              "      <td>16</td>\n",
              "      <td>5</td>\n",
              "      <td>38.825898</td>\n",
              "      <td>0</td>\n",
              "    </tr>\n",
              "    <tr>\n",
              "      <th>2</th>\n",
              "      <td>k403</td>\n",
              "      <td>Ramicane</td>\n",
              "      <td>Male</td>\n",
              "      <td>21</td>\n",
              "      <td>16</td>\n",
              "      <td>10</td>\n",
              "      <td>35.014271</td>\n",
              "      <td>1</td>\n",
              "    </tr>\n",
              "    <tr>\n",
              "      <th>3</th>\n",
              "      <td>k403</td>\n",
              "      <td>Ramicane</td>\n",
              "      <td>Male</td>\n",
              "      <td>21</td>\n",
              "      <td>16</td>\n",
              "      <td>15</td>\n",
              "      <td>34.223992</td>\n",
              "      <td>1</td>\n",
              "    </tr>\n",
              "    <tr>\n",
              "      <th>4</th>\n",
              "      <td>k403</td>\n",
              "      <td>Ramicane</td>\n",
              "      <td>Male</td>\n",
              "      <td>21</td>\n",
              "      <td>16</td>\n",
              "      <td>20</td>\n",
              "      <td>32.997729</td>\n",
              "      <td>1</td>\n",
              "    </tr>\n",
              "    <tr>\n",
              "      <th>...</th>\n",
              "      <td>...</td>\n",
              "      <td>...</td>\n",
              "      <td>...</td>\n",
              "      <td>...</td>\n",
              "      <td>...</td>\n",
              "      <td>...</td>\n",
              "      <td>...</td>\n",
              "      <td>...</td>\n",
              "    </tr>\n",
              "    <tr>\n",
              "      <th>1888</th>\n",
              "      <td>z969</td>\n",
              "      <td>Naftisol</td>\n",
              "      <td>Male</td>\n",
              "      <td>9</td>\n",
              "      <td>30</td>\n",
              "      <td>25</td>\n",
              "      <td>63.145652</td>\n",
              "      <td>2</td>\n",
              "    </tr>\n",
              "    <tr>\n",
              "      <th>1889</th>\n",
              "      <td>z969</td>\n",
              "      <td>Naftisol</td>\n",
              "      <td>Male</td>\n",
              "      <td>9</td>\n",
              "      <td>30</td>\n",
              "      <td>30</td>\n",
              "      <td>65.841013</td>\n",
              "      <td>3</td>\n",
              "    </tr>\n",
              "    <tr>\n",
              "      <th>1890</th>\n",
              "      <td>z969</td>\n",
              "      <td>Naftisol</td>\n",
              "      <td>Male</td>\n",
              "      <td>9</td>\n",
              "      <td>30</td>\n",
              "      <td>35</td>\n",
              "      <td>69.176246</td>\n",
              "      <td>4</td>\n",
              "    </tr>\n",
              "    <tr>\n",
              "      <th>1891</th>\n",
              "      <td>z969</td>\n",
              "      <td>Naftisol</td>\n",
              "      <td>Male</td>\n",
              "      <td>9</td>\n",
              "      <td>30</td>\n",
              "      <td>40</td>\n",
              "      <td>70.314904</td>\n",
              "      <td>4</td>\n",
              "    </tr>\n",
              "    <tr>\n",
              "      <th>1892</th>\n",
              "      <td>z969</td>\n",
              "      <td>Naftisol</td>\n",
              "      <td>Male</td>\n",
              "      <td>9</td>\n",
              "      <td>30</td>\n",
              "      <td>45</td>\n",
              "      <td>73.867845</td>\n",
              "      <td>4</td>\n",
              "    </tr>\n",
              "  </tbody>\n",
              "</table>\n",
              "<p>1893 rows × 8 columns</p>\n",
              "</div>"
            ],
            "text/plain": [
              "     Mouse ID Drug Regimen  ... Tumor Volume (mm3)  Metastatic Sites\n",
              "0        k403     Ramicane  ...          45.000000                 0\n",
              "1        k403     Ramicane  ...          38.825898                 0\n",
              "2        k403     Ramicane  ...          35.014271                 1\n",
              "3        k403     Ramicane  ...          34.223992                 1\n",
              "4        k403     Ramicane  ...          32.997729                 1\n",
              "...       ...          ...  ...                ...               ...\n",
              "1888     z969     Naftisol  ...          63.145652                 2\n",
              "1889     z969     Naftisol  ...          65.841013                 3\n",
              "1890     z969     Naftisol  ...          69.176246                 4\n",
              "1891     z969     Naftisol  ...          70.314904                 4\n",
              "1892     z969     Naftisol  ...          73.867845                 4\n",
              "\n",
              "[1893 rows x 8 columns]"
            ]
          },
          "metadata": {
            "tags": []
          },
          "execution_count": 15
        }
      ]
    },
    {
      "cell_type": "code",
      "metadata": {
        "id": "sLshxWq-9h_7",
        "colab_type": "code",
        "colab": {
          "base_uri": "https://localhost:8080/",
          "height": 34
        },
        "outputId": "33b03ac6-9eb2-449e-ee6f-238ed4ece22a"
      },
      "source": [
        "# Checking the number of mice.\n",
        "\n",
        "len(merge_df[\"Mouse ID\"].unique())"
      ],
      "execution_count": 17,
      "outputs": [
        {
          "output_type": "execute_result",
          "data": {
            "text/plain": [
              "249"
            ]
          },
          "metadata": {
            "tags": []
          },
          "execution_count": 17
        }
      ]
    },
    {
      "cell_type": "code",
      "metadata": {
        "id": "IbZQEW3qJ6CB",
        "colab_type": "code",
        "colab": {
          "base_uri": "https://localhost:8080/",
          "height": 34
        },
        "outputId": "a25f4f4c-4a6b-4bec-8bb8-bdbca9ef9b1c"
      },
      "source": [
        "# Getting the duplicate mice by ID number that shows up for Mouse ID and Timepoint. \n",
        "\n",
        "duplicate_mice = merge_df.loc[merge_df.duplicated(subset=[\"Mouse ID\", \"Timepoint\"]), \"Mouse ID\"].unique()\n",
        "\n",
        "print(duplicate_mice)"
      ],
      "execution_count": 22,
      "outputs": [
        {
          "output_type": "stream",
          "text": [
            "['g989']\n"
          ],
          "name": "stdout"
        }
      ]
    },
    {
      "cell_type": "code",
      "metadata": {
        "id": "X7TbfvCNJ8Dk",
        "colab_type": "code",
        "colab": {
          "base_uri": "https://localhost:8080/",
          "height": 289
        },
        "outputId": "178009b5-9b4d-4e82-f293-793888750b5f"
      },
      "source": [
        "# Optional: Get all the data for the duplicate mouse ID. \n",
        "\n",
        "show_duplicate = merge_df.loc[merge_df[\"Mouse ID\"] == duplicate_mice[0], :]\n",
        "print(show_duplicate)"
      ],
      "execution_count": 28,
      "outputs": [
        {
          "output_type": "stream",
          "text": [
            "    Mouse ID Drug Regimen  ... Tumor Volume (mm3)  Metastatic Sites\n",
            "908     g989     Propriva  ...          45.000000                 0\n",
            "909     g989     Propriva  ...          45.000000                 0\n",
            "910     g989     Propriva  ...          48.786801                 0\n",
            "911     g989     Propriva  ...          47.570392                 0\n",
            "912     g989     Propriva  ...          51.745156                 0\n",
            "913     g989     Propriva  ...          49.880528                 0\n",
            "914     g989     Propriva  ...          51.325852                 1\n",
            "915     g989     Propriva  ...          53.442020                 0\n",
            "916     g989     Propriva  ...          55.326122                 1\n",
            "917     g989     Propriva  ...          54.657650                 1\n",
            "918     g989     Propriva  ...          56.045564                 1\n",
            "919     g989     Propriva  ...          59.082294                 1\n",
            "920     g989     Propriva  ...          62.570880                 2\n",
            "\n",
            "[13 rows x 8 columns]\n"
          ],
          "name": "stdout"
        }
      ]
    },
    {
      "cell_type": "code",
      "metadata": {
        "id": "aehOd6B8J-it",
        "colab_type": "code",
        "colab": {
          "base_uri": "https://localhost:8080/",
          "height": 419
        },
        "outputId": "f6a36d01-8a89-48e6-d9b2-689dd1b9a563"
      },
      "source": [
        "# Create a clean DataFrame by dropping the duplicate mouse by its ID.\n",
        "\n",
        "clean_df = merge_df[merge_df[\"Mouse ID\"].isin(duplicate_mice)==False]\n",
        "clean_df"
      ],
      "execution_count": 29,
      "outputs": [
        {
          "output_type": "execute_result",
          "data": {
            "text/html": [
              "<div>\n",
              "<style scoped>\n",
              "    .dataframe tbody tr th:only-of-type {\n",
              "        vertical-align: middle;\n",
              "    }\n",
              "\n",
              "    .dataframe tbody tr th {\n",
              "        vertical-align: top;\n",
              "    }\n",
              "\n",
              "    .dataframe thead th {\n",
              "        text-align: right;\n",
              "    }\n",
              "</style>\n",
              "<table border=\"1\" class=\"dataframe\">\n",
              "  <thead>\n",
              "    <tr style=\"text-align: right;\">\n",
              "      <th></th>\n",
              "      <th>Mouse ID</th>\n",
              "      <th>Drug Regimen</th>\n",
              "      <th>Sex</th>\n",
              "      <th>Age_months</th>\n",
              "      <th>Weight (g)</th>\n",
              "      <th>Timepoint</th>\n",
              "      <th>Tumor Volume (mm3)</th>\n",
              "      <th>Metastatic Sites</th>\n",
              "    </tr>\n",
              "  </thead>\n",
              "  <tbody>\n",
              "    <tr>\n",
              "      <th>0</th>\n",
              "      <td>k403</td>\n",
              "      <td>Ramicane</td>\n",
              "      <td>Male</td>\n",
              "      <td>21</td>\n",
              "      <td>16</td>\n",
              "      <td>0</td>\n",
              "      <td>45.000000</td>\n",
              "      <td>0</td>\n",
              "    </tr>\n",
              "    <tr>\n",
              "      <th>1</th>\n",
              "      <td>k403</td>\n",
              "      <td>Ramicane</td>\n",
              "      <td>Male</td>\n",
              "      <td>21</td>\n",
              "      <td>16</td>\n",
              "      <td>5</td>\n",
              "      <td>38.825898</td>\n",
              "      <td>0</td>\n",
              "    </tr>\n",
              "    <tr>\n",
              "      <th>2</th>\n",
              "      <td>k403</td>\n",
              "      <td>Ramicane</td>\n",
              "      <td>Male</td>\n",
              "      <td>21</td>\n",
              "      <td>16</td>\n",
              "      <td>10</td>\n",
              "      <td>35.014271</td>\n",
              "      <td>1</td>\n",
              "    </tr>\n",
              "    <tr>\n",
              "      <th>3</th>\n",
              "      <td>k403</td>\n",
              "      <td>Ramicane</td>\n",
              "      <td>Male</td>\n",
              "      <td>21</td>\n",
              "      <td>16</td>\n",
              "      <td>15</td>\n",
              "      <td>34.223992</td>\n",
              "      <td>1</td>\n",
              "    </tr>\n",
              "    <tr>\n",
              "      <th>4</th>\n",
              "      <td>k403</td>\n",
              "      <td>Ramicane</td>\n",
              "      <td>Male</td>\n",
              "      <td>21</td>\n",
              "      <td>16</td>\n",
              "      <td>20</td>\n",
              "      <td>32.997729</td>\n",
              "      <td>1</td>\n",
              "    </tr>\n",
              "    <tr>\n",
              "      <th>...</th>\n",
              "      <td>...</td>\n",
              "      <td>...</td>\n",
              "      <td>...</td>\n",
              "      <td>...</td>\n",
              "      <td>...</td>\n",
              "      <td>...</td>\n",
              "      <td>...</td>\n",
              "      <td>...</td>\n",
              "    </tr>\n",
              "    <tr>\n",
              "      <th>1888</th>\n",
              "      <td>z969</td>\n",
              "      <td>Naftisol</td>\n",
              "      <td>Male</td>\n",
              "      <td>9</td>\n",
              "      <td>30</td>\n",
              "      <td>25</td>\n",
              "      <td>63.145652</td>\n",
              "      <td>2</td>\n",
              "    </tr>\n",
              "    <tr>\n",
              "      <th>1889</th>\n",
              "      <td>z969</td>\n",
              "      <td>Naftisol</td>\n",
              "      <td>Male</td>\n",
              "      <td>9</td>\n",
              "      <td>30</td>\n",
              "      <td>30</td>\n",
              "      <td>65.841013</td>\n",
              "      <td>3</td>\n",
              "    </tr>\n",
              "    <tr>\n",
              "      <th>1890</th>\n",
              "      <td>z969</td>\n",
              "      <td>Naftisol</td>\n",
              "      <td>Male</td>\n",
              "      <td>9</td>\n",
              "      <td>30</td>\n",
              "      <td>35</td>\n",
              "      <td>69.176246</td>\n",
              "      <td>4</td>\n",
              "    </tr>\n",
              "    <tr>\n",
              "      <th>1891</th>\n",
              "      <td>z969</td>\n",
              "      <td>Naftisol</td>\n",
              "      <td>Male</td>\n",
              "      <td>9</td>\n",
              "      <td>30</td>\n",
              "      <td>40</td>\n",
              "      <td>70.314904</td>\n",
              "      <td>4</td>\n",
              "    </tr>\n",
              "    <tr>\n",
              "      <th>1892</th>\n",
              "      <td>z969</td>\n",
              "      <td>Naftisol</td>\n",
              "      <td>Male</td>\n",
              "      <td>9</td>\n",
              "      <td>30</td>\n",
              "      <td>45</td>\n",
              "      <td>73.867845</td>\n",
              "      <td>4</td>\n",
              "    </tr>\n",
              "  </tbody>\n",
              "</table>\n",
              "<p>1880 rows × 8 columns</p>\n",
              "</div>"
            ],
            "text/plain": [
              "     Mouse ID Drug Regimen  ... Tumor Volume (mm3)  Metastatic Sites\n",
              "0        k403     Ramicane  ...          45.000000                 0\n",
              "1        k403     Ramicane  ...          38.825898                 0\n",
              "2        k403     Ramicane  ...          35.014271                 1\n",
              "3        k403     Ramicane  ...          34.223992                 1\n",
              "4        k403     Ramicane  ...          32.997729                 1\n",
              "...       ...          ...  ...                ...               ...\n",
              "1888     z969     Naftisol  ...          63.145652                 2\n",
              "1889     z969     Naftisol  ...          65.841013                 3\n",
              "1890     z969     Naftisol  ...          69.176246                 4\n",
              "1891     z969     Naftisol  ...          70.314904                 4\n",
              "1892     z969     Naftisol  ...          73.867845                 4\n",
              "\n",
              "[1880 rows x 8 columns]"
            ]
          },
          "metadata": {
            "tags": []
          },
          "execution_count": 29
        }
      ]
    },
    {
      "cell_type": "code",
      "metadata": {
        "id": "gehfaW5OKBFX",
        "colab_type": "code",
        "colab": {
          "base_uri": "https://localhost:8080/",
          "height": 34
        },
        "outputId": "41f9a8b0-2377-4d88-c71d-502382611810"
      },
      "source": [
        "# Checking the number of mice in the clean DataFrame.\n",
        "\n",
        "len(clean_df[\"Mouse ID\"].unique())"
      ],
      "execution_count": 30,
      "outputs": [
        {
          "output_type": "execute_result",
          "data": {
            "text/plain": [
              "248"
            ]
          },
          "metadata": {
            "tags": []
          },
          "execution_count": 30
        }
      ]
    },
    {
      "cell_type": "markdown",
      "metadata": {
        "id": "4_LaApmpq79J",
        "colab_type": "text"
      },
      "source": [
        "## **Summary Statisics**"
      ]
    },
    {
      "cell_type": "code",
      "metadata": {
        "id": "IUIBndoUKDLr",
        "colab_type": "code",
        "colab": {
          "base_uri": "https://localhost:8080/",
          "height": 390
        },
        "outputId": "4f9fe643-23b0-4a0e-dfc5-774aa3093f68"
      },
      "source": [
        "# Generate a summary statistics table of mean, median, variance, standard deviation, and SEM of the tumor volume for each regimen\n",
        "\n",
        "# This method is the most straighforward, creating multiple series and putting them all together at the end.\n",
        "\n",
        "tv_byregimen = clean_df[[\"Drug Regimen\",\"Tumor Volume (mm3)\"]]\n",
        "tv_byregimen\n",
        "\n",
        "regimen = tv_byregimen.groupby([\"Drug Regimen\"])\n",
        "regimen.count().head()\n",
        "\n",
        "regimen_summary = pd.DataFrame({\n",
        "    \"Mean\": regimen[\"Tumor Volume (mm3)\"].mean().map('{:.2f}'.format),\n",
        "    \"Median\": regimen[\"Tumor Volume (mm3)\"].median().map('{:.2f}'.format),\n",
        "    \"Variance\": regimen[\"Tumor Volume (mm3)\"].var().map('{:.2f}'.format),\n",
        "    \"Standard Deviation\": regimen[\"Tumor Volume (mm3)\"].std().map('{:.2f}'.format),\n",
        "    \"SEM\": regimen[\"Tumor Volume (mm3)\"].sem().map('{:.2f}'.format)\n",
        "})\n",
        "\n",
        "regimen_summary"
      ],
      "execution_count": 50,
      "outputs": [
        {
          "output_type": "execute_result",
          "data": {
            "text/html": [
              "<div>\n",
              "<style scoped>\n",
              "    .dataframe tbody tr th:only-of-type {\n",
              "        vertical-align: middle;\n",
              "    }\n",
              "\n",
              "    .dataframe tbody tr th {\n",
              "        vertical-align: top;\n",
              "    }\n",
              "\n",
              "    .dataframe thead th {\n",
              "        text-align: right;\n",
              "    }\n",
              "</style>\n",
              "<table border=\"1\" class=\"dataframe\">\n",
              "  <thead>\n",
              "    <tr style=\"text-align: right;\">\n",
              "      <th></th>\n",
              "      <th>Mean</th>\n",
              "      <th>Median</th>\n",
              "      <th>Variance</th>\n",
              "      <th>Standard Deviation</th>\n",
              "      <th>SEM</th>\n",
              "    </tr>\n",
              "    <tr>\n",
              "      <th>Drug Regimen</th>\n",
              "      <th></th>\n",
              "      <th></th>\n",
              "      <th></th>\n",
              "      <th></th>\n",
              "      <th></th>\n",
              "    </tr>\n",
              "  </thead>\n",
              "  <tbody>\n",
              "    <tr>\n",
              "      <th>Capomulin</th>\n",
              "      <td>40.68</td>\n",
              "      <td>41.56</td>\n",
              "      <td>24.95</td>\n",
              "      <td>4.99</td>\n",
              "      <td>0.33</td>\n",
              "    </tr>\n",
              "    <tr>\n",
              "      <th>Ceftamin</th>\n",
              "      <td>52.59</td>\n",
              "      <td>51.78</td>\n",
              "      <td>39.29</td>\n",
              "      <td>6.27</td>\n",
              "      <td>0.47</td>\n",
              "    </tr>\n",
              "    <tr>\n",
              "      <th>Infubinol</th>\n",
              "      <td>52.88</td>\n",
              "      <td>51.82</td>\n",
              "      <td>43.13</td>\n",
              "      <td>6.57</td>\n",
              "      <td>0.49</td>\n",
              "    </tr>\n",
              "    <tr>\n",
              "      <th>Ketapril</th>\n",
              "      <td>55.24</td>\n",
              "      <td>53.70</td>\n",
              "      <td>68.55</td>\n",
              "      <td>8.28</td>\n",
              "      <td>0.60</td>\n",
              "    </tr>\n",
              "    <tr>\n",
              "      <th>Naftisol</th>\n",
              "      <td>54.33</td>\n",
              "      <td>52.51</td>\n",
              "      <td>66.17</td>\n",
              "      <td>8.13</td>\n",
              "      <td>0.60</td>\n",
              "    </tr>\n",
              "    <tr>\n",
              "      <th>Placebo</th>\n",
              "      <td>54.03</td>\n",
              "      <td>52.29</td>\n",
              "      <td>61.17</td>\n",
              "      <td>7.82</td>\n",
              "      <td>0.58</td>\n",
              "    </tr>\n",
              "    <tr>\n",
              "      <th>Propriva</th>\n",
              "      <td>52.32</td>\n",
              "      <td>50.45</td>\n",
              "      <td>43.85</td>\n",
              "      <td>6.62</td>\n",
              "      <td>0.54</td>\n",
              "    </tr>\n",
              "    <tr>\n",
              "      <th>Ramicane</th>\n",
              "      <td>40.22</td>\n",
              "      <td>40.67</td>\n",
              "      <td>23.49</td>\n",
              "      <td>4.85</td>\n",
              "      <td>0.32</td>\n",
              "    </tr>\n",
              "    <tr>\n",
              "      <th>Stelasyn</th>\n",
              "      <td>54.23</td>\n",
              "      <td>52.43</td>\n",
              "      <td>59.45</td>\n",
              "      <td>7.71</td>\n",
              "      <td>0.57</td>\n",
              "    </tr>\n",
              "    <tr>\n",
              "      <th>Zoniferol</th>\n",
              "      <td>53.24</td>\n",
              "      <td>51.82</td>\n",
              "      <td>48.53</td>\n",
              "      <td>6.97</td>\n",
              "      <td>0.52</td>\n",
              "    </tr>\n",
              "  </tbody>\n",
              "</table>\n",
              "</div>"
            ],
            "text/plain": [
              "               Mean Median Variance Standard Deviation   SEM\n",
              "Drug Regimen                                                \n",
              "Capomulin     40.68  41.56    24.95               4.99  0.33\n",
              "Ceftamin      52.59  51.78    39.29               6.27  0.47\n",
              "Infubinol     52.88  51.82    43.13               6.57  0.49\n",
              "Ketapril      55.24  53.70    68.55               8.28  0.60\n",
              "Naftisol      54.33  52.51    66.17               8.13  0.60\n",
              "Placebo       54.03  52.29    61.17               7.82  0.58\n",
              "Propriva      52.32  50.45    43.85               6.62  0.54\n",
              "Ramicane      40.22  40.67    23.49               4.85  0.32\n",
              "Stelasyn      54.23  52.43    59.45               7.71  0.57\n",
              "Zoniferol     53.24  51.82    48.53               6.97  0.52"
            ]
          },
          "metadata": {
            "tags": []
          },
          "execution_count": 50
        }
      ]
    },
    {
      "cell_type": "code",
      "metadata": {
        "id": "a9QFQmXgKGMj",
        "colab_type": "code",
        "colab": {
          "base_uri": "https://localhost:8080/",
          "height": 421
        },
        "outputId": "5db7f04d-2147-4df2-84f0-336d857425b5"
      },
      "source": [
        "# Generate a summary statistics table of mean, median, variance, standard deviation, and SEM of the tumor volume for each regimen\n",
        "\n",
        "# This method produces everything in a single groupby function\n",
        "\n",
        "regimen_new = tv_byregimen.groupby([\"Drug Regimen\"]).agg({\"Tumor Volume (mm3)\": [np.mean, np.median, np.var, np.std, st.sem]})\n",
        "\n",
        "regimen_new"
      ],
      "execution_count": 68,
      "outputs": [
        {
          "output_type": "execute_result",
          "data": {
            "text/html": [
              "<div>\n",
              "<style scoped>\n",
              "    .dataframe tbody tr th:only-of-type {\n",
              "        vertical-align: middle;\n",
              "    }\n",
              "\n",
              "    .dataframe tbody tr th {\n",
              "        vertical-align: top;\n",
              "    }\n",
              "\n",
              "    .dataframe thead tr th {\n",
              "        text-align: left;\n",
              "    }\n",
              "\n",
              "    .dataframe thead tr:last-of-type th {\n",
              "        text-align: right;\n",
              "    }\n",
              "</style>\n",
              "<table border=\"1\" class=\"dataframe\">\n",
              "  <thead>\n",
              "    <tr>\n",
              "      <th></th>\n",
              "      <th colspan=\"5\" halign=\"left\">Tumor Volume (mm3)</th>\n",
              "    </tr>\n",
              "    <tr>\n",
              "      <th></th>\n",
              "      <th>mean</th>\n",
              "      <th>median</th>\n",
              "      <th>var</th>\n",
              "      <th>std</th>\n",
              "      <th>sem</th>\n",
              "    </tr>\n",
              "    <tr>\n",
              "      <th>Drug Regimen</th>\n",
              "      <th></th>\n",
              "      <th></th>\n",
              "      <th></th>\n",
              "      <th></th>\n",
              "      <th></th>\n",
              "    </tr>\n",
              "  </thead>\n",
              "  <tbody>\n",
              "    <tr>\n",
              "      <th>Capomulin</th>\n",
              "      <td>40.675741</td>\n",
              "      <td>41.557809</td>\n",
              "      <td>24.947764</td>\n",
              "      <td>4.994774</td>\n",
              "      <td>0.329346</td>\n",
              "    </tr>\n",
              "    <tr>\n",
              "      <th>Ceftamin</th>\n",
              "      <td>52.591172</td>\n",
              "      <td>51.776157</td>\n",
              "      <td>39.290177</td>\n",
              "      <td>6.268188</td>\n",
              "      <td>0.469821</td>\n",
              "    </tr>\n",
              "    <tr>\n",
              "      <th>Infubinol</th>\n",
              "      <td>52.884795</td>\n",
              "      <td>51.820584</td>\n",
              "      <td>43.128684</td>\n",
              "      <td>6.567243</td>\n",
              "      <td>0.492236</td>\n",
              "    </tr>\n",
              "    <tr>\n",
              "      <th>Ketapril</th>\n",
              "      <td>55.235638</td>\n",
              "      <td>53.698743</td>\n",
              "      <td>68.553577</td>\n",
              "      <td>8.279709</td>\n",
              "      <td>0.603860</td>\n",
              "    </tr>\n",
              "    <tr>\n",
              "      <th>Naftisol</th>\n",
              "      <td>54.331565</td>\n",
              "      <td>52.509285</td>\n",
              "      <td>66.173479</td>\n",
              "      <td>8.134708</td>\n",
              "      <td>0.596466</td>\n",
              "    </tr>\n",
              "    <tr>\n",
              "      <th>Placebo</th>\n",
              "      <td>54.033581</td>\n",
              "      <td>52.288934</td>\n",
              "      <td>61.168083</td>\n",
              "      <td>7.821003</td>\n",
              "      <td>0.581331</td>\n",
              "    </tr>\n",
              "    <tr>\n",
              "      <th>Propriva</th>\n",
              "      <td>52.320930</td>\n",
              "      <td>50.446266</td>\n",
              "      <td>43.852013</td>\n",
              "      <td>6.622085</td>\n",
              "      <td>0.544332</td>\n",
              "    </tr>\n",
              "    <tr>\n",
              "      <th>Ramicane</th>\n",
              "      <td>40.216745</td>\n",
              "      <td>40.673236</td>\n",
              "      <td>23.486704</td>\n",
              "      <td>4.846308</td>\n",
              "      <td>0.320955</td>\n",
              "    </tr>\n",
              "    <tr>\n",
              "      <th>Stelasyn</th>\n",
              "      <td>54.233149</td>\n",
              "      <td>52.431737</td>\n",
              "      <td>59.450562</td>\n",
              "      <td>7.710419</td>\n",
              "      <td>0.573111</td>\n",
              "    </tr>\n",
              "    <tr>\n",
              "      <th>Zoniferol</th>\n",
              "      <td>53.236507</td>\n",
              "      <td>51.818479</td>\n",
              "      <td>48.533355</td>\n",
              "      <td>6.966589</td>\n",
              "      <td>0.516398</td>\n",
              "    </tr>\n",
              "  </tbody>\n",
              "</table>\n",
              "</div>"
            ],
            "text/plain": [
              "             Tumor Volume (mm3)                                          \n",
              "                           mean     median        var       std       sem\n",
              "Drug Regimen                                                             \n",
              "Capomulin             40.675741  41.557809  24.947764  4.994774  0.329346\n",
              "Ceftamin              52.591172  51.776157  39.290177  6.268188  0.469821\n",
              "Infubinol             52.884795  51.820584  43.128684  6.567243  0.492236\n",
              "Ketapril              55.235638  53.698743  68.553577  8.279709  0.603860\n",
              "Naftisol              54.331565  52.509285  66.173479  8.134708  0.596466\n",
              "Placebo               54.033581  52.288934  61.168083  7.821003  0.581331\n",
              "Propriva              52.320930  50.446266  43.852013  6.622085  0.544332\n",
              "Ramicane              40.216745  40.673236  23.486704  4.846308  0.320955\n",
              "Stelasyn              54.233149  52.431737  59.450562  7.710419  0.573111\n",
              "Zoniferol             53.236507  51.818479  48.533355  6.966589  0.516398"
            ]
          },
          "metadata": {
            "tags": []
          },
          "execution_count": 68
        }
      ]
    },
    {
      "cell_type": "markdown",
      "metadata": {
        "id": "mUyJhGs-57C7",
        "colab_type": "text"
      },
      "source": [
        "## **Bar and Pie Charts**"
      ]
    },
    {
      "cell_type": "code",
      "metadata": {
        "id": "YSCpRwZbKIlQ",
        "colab_type": "code",
        "colab": {
          "base_uri": "https://localhost:8080/",
          "height": 410
        },
        "outputId": "c1f12a01-36e5-4f3c-b4e1-fb584a89386e"
      },
      "source": [
        "# Generate a bar plot showing the total number of mice for each treatment throughout the course of the study using pandas. \n",
        "\n",
        "mice_byregimen = clean_df.groupby([\"Drug Regimen\"]).count()[\"Mouse ID\"]\n",
        "mice_byregimen\n",
        "\n",
        "mice_byregimen.plot(kind=\"bar\", figsize=(10,5))\n",
        "\n",
        "#set chart title\n",
        "plt.title(\"Mice by Treatment\")\n",
        "plt.xlabel(\"Drug Regimen\")\n",
        "plt.ylabel(\"Number of Mice\")\n",
        "\n",
        "#show chart and set layout\n",
        "plt.show()\n",
        "plt.tight_layout()\n"
      ],
      "execution_count": 87,
      "outputs": [
        {
          "output_type": "display_data",
          "data": {
            "image/png": "[encoded data removed]",
            "text/plain": [
              "<Figure size 720x360 with 1 Axes>"
            ]
          },
          "metadata": {
            "tags": [],
            "needs_background": "light"
          }
        },
        {
          "output_type": "display_data",
          "data": {
            "text/plain": [
              "<Figure size 432x288 with 0 Axes>"
            ]
          },
          "metadata": {
            "tags": []
          }
        }
      ]
    },
    {
      "cell_type": "code",
      "metadata": {
        "id": "GmK5F752AFmt",
        "colab_type": "code",
        "colab": {
          "base_uri": "https://localhost:8080/",
          "height": 221
        },
        "outputId": "d81c126f-fc2a-4316-b607-525f77a181f1"
      },
      "source": [
        "# Generate a bar plot showing the total number of mice for each treatment throughout the course of the study using pyplot.\n",
        "\n",
        "mice_byregimen"
      ],
      "execution_count": 88,
      "outputs": [
        {
          "output_type": "execute_result",
          "data": {
            "text/plain": [
              "Drug Regimen\n",
              "Capomulin    230\n",
              "Ceftamin     178\n",
              "Infubinol    178\n",
              "Ketapril     188\n",
              "Naftisol     186\n",
              "Placebo      181\n",
              "Propriva     148\n",
              "Ramicane     228\n",
              "Stelasyn     181\n",
              "Zoniferol    182\n",
              "Name: Mouse ID, dtype: int64"
            ]
          },
          "metadata": {
            "tags": []
          },
          "execution_count": 88
        }
      ]
    },
    {
      "cell_type": "code",
      "metadata": {
        "id": "Tsk5UMsGKQOo",
        "colab_type": "code",
        "colab": {
          "base_uri": "https://localhost:8080/",
          "height": 356
        },
        "outputId": "d10bb639-7028-40d6-b37a-e1ed24bc6331"
      },
      "source": [
        "# Generate a bar plot showing the total number of mice for each treatment throughout the course of the study using pyplot.\n",
        "\n",
        "mice = [230, 178, 178, 188, 186, 181, 161, 228, 181, 182]\n",
        "\n",
        "x_axis = np.arange(len(mice_byregimen))\n",
        "\n",
        "plt.bar(x_axis, mice, color='red', alpha=0.75, align='center')\n",
        "\n",
        "tick_locations = [value for value in x_axis]\n",
        "plt.xticks(tick_locations, ['Capomulin', 'Ceftamin', 'Infubinol', 'Ketapril', 'Naftisol', 'Placebo', 'Propriva', 'Ramicane', 'Stelasyn', 'Zoniferol'],  rotation='vertical')\n",
        "\n",
        "plt.xlim(-0.75, len(x_axis)-0.25)\n",
        "\n",
        "plt.ylim(0, max(mice)+10)\n",
        "\n",
        "plt.title(\"Mice by Treatment\")\n",
        "plt.xlabel(\"Drug Regimen\")\n",
        "plt.ylabel(\"Number of Mice\")"
      ],
      "execution_count": 93,
      "outputs": [
        {
          "output_type": "execute_result",
          "data": {
            "text/plain": [
              "Text(0, 0.5, 'Number of Mice')"
            ]
          },
          "metadata": {
            "tags": []
          },
          "execution_count": 93
        },
        {
          "output_type": "display_data",
          "data": {
            "image/png": "[encoded data removed]",
            "text/plain": [
              "<Figure size 432x288 with 1 Axes>"
            ]
          },
          "metadata": {
            "tags": [],
            "needs_background": "light"
          }
        }
      ]
    },
    {
      "cell_type": "code",
      "metadata": {
        "id": "9FFnfz5BKRlt",
        "colab_type": "code",
        "colab": {
          "base_uri": "https://localhost:8080/",
          "height": 297
        },
        "outputId": "a1dcf392-b629-4d6f-fb72-6615dba0ae05"
      },
      "source": [
        "# Generate a pie plot showing the distribution of female versus male mice using pandas\n",
        "\n",
        "sex = clean_df[\"Sex\"].value_counts()\n",
        "\n",
        "plt.figure()\n",
        "sex.plot(kind=\"pie\", autopct='%1.1f%%', startangle = 45)\n",
        "plt.tight_layout()\n",
        "plt.title(\"Distribution of Female v Male Mice\")\n",
        "plt.tight_layout()\n",
        "plt.show()"
      ],
      "execution_count": 102,
      "outputs": [
        {
          "output_type": "display_data",
          "data": {
            "image/png": "[encoded data removed]",
            "text/plain": [
              "<Figure size 432x288 with 1 Axes>"
            ]
          },
          "metadata": {
            "tags": []
          }
        }
      ]
    },
    {
      "cell_type": "code",
      "metadata": {
        "id": "q2PFevP2Es6F",
        "colab_type": "code",
        "colab": {
          "base_uri": "https://localhost:8080/",
          "height": 68
        },
        "outputId": "494a4402-9228-4358-ad4d-4e132e42e434"
      },
      "source": [
        "# Generate a pie plot showing the distribution of female versus male mice using pyplot\n",
        "\n",
        "sex"
      ],
      "execution_count": 103,
      "outputs": [
        {
          "output_type": "execute_result",
          "data": {
            "text/plain": [
              "Male      958\n",
              "Female    922\n",
              "Name: Sex, dtype: int64"
            ]
          },
          "metadata": {
            "tags": []
          },
          "execution_count": 103
        }
      ]
    },
    {
      "cell_type": "code",
      "metadata": {
        "id": "2hCBffWPKVbW",
        "colab_type": "code",
        "colab": {
          "base_uri": "https://localhost:8080/",
          "height": 281
        },
        "outputId": "8d0fd517-464c-4c25-b5e7-1dbaf91dec09"
      },
      "source": [
        "# Generate a pie plot showing the distribution of female versus male mice using pyplot\n",
        "\n",
        "labels = [\"Male\", \"Female\"]\n",
        "sizes = [958, 922]\n",
        "colors = [\"lightcoral\", \"lightskyblue\"]\n",
        "\n",
        "plt.pie(sizes, explode=None, labels=labels, colors=colors,\n",
        "        autopct=\"%1.1f%%\", shadow=True, startangle=140)\n",
        "\n",
        "plt.axis(\"equal\")\n",
        "\n",
        "plt.title(\"Distribution of Female v Male Mice\")"
      ],
      "execution_count": 108,
      "outputs": [
        {
          "output_type": "execute_result",
          "data": {
            "text/plain": [
              "Text(0.5, 1.0, 'Distribution of Female v Male Mice')"
            ]
          },
          "metadata": {
            "tags": []
          },
          "execution_count": 108
        },
        {
          "output_type": "display_data",
          "data": {
            "image/png": "[encoded data removed]",
            "text/plain": [
              "<Figure size 432x288 with 1 Axes>"
            ]
          },
          "metadata": {
            "tags": []
          }
        }
      ]
    },
    {
      "cell_type": "markdown",
      "metadata": {
        "id": "CqjLAAIA5_zJ",
        "colab_type": "text"
      },
      "source": [
        "## **Quartiles, Outliers, and Boxplots**"
      ]
    },
    {
      "cell_type": "code",
      "metadata": {
        "id": "z0M4GtwxKWHM",
        "colab_type": "code",
        "colab": {}
      },
      "source": [
        "# Calculate the final tumor volume of each mouse across four of the treatment regimens:  \n",
        "# Capomulin, Ramicane, Infubinol, and Ceftamin\n",
        "\n",
        "# Start by getting the last (greatest) timepoint for each mouse\n",
        "\n",
        "last_tp = clean_df.groupby('Mouse ID').max()['Timepoint']\n",
        "\n",
        "lasttp_df = pd.DataFrame(last_tp)\n",
        "\n",
        "# Merge this group df with the original dataframe to get the tumor volume at the last timepoint\n",
        "\n",
        "lastmerge = pd.merge(lasttp_df, clean_df, on=(\"Mouse ID\",\"Timepoint\"),how=\"left\")\n",
        "\n",
        "lastmerge.head()\n",
        "\n",
        "\n",
        "mice_treatment = lastmerge.loc[(lastmerge[\"Drug Regimen\"] == \"Capomulin\") |\n",
        "                               (lastmerge[\"Drug Regimen\"] == \"Ramicane\") |\n",
        "                               (lastmerge[\"Drug Regimen\"] == \"Infubinol\") |\n",
        "                               (lastmerge[\"Drug Regimen\"] == \"Ceftamin\"), :]\n",
        "mice_treatment\n",
        "\n",
        "regimen_cap_df = mice_treatment.loc[mice_treatment[\"Drug Regimen\"] == \"Capomulin\",:]\n",
        "regimen_ram_df = mice_treatment.loc[mice_treatment[\"Drug Regimen\"] == \"Ramicane\", :]\n",
        "regimen_inf_df = mice_treatment.loc[mice_treatment[\"Drug Regimen\"] == \"Infubinol\", :]\n",
        "regimen_cef_df = mice_treatment.loc[mice_treatment[\"Drug Regimen\"] == \"Ceftamin\", :]\n"
      ],
      "execution_count": 129,
      "outputs": []
    },
    {
      "cell_type": "code",
      "metadata": {
        "id": "ZxY-ojJEKYy-",
        "colab_type": "code",
        "colab": {}
      },
      "source": [
        "# Put treatments into a list for for loop (and later for plot labels)\n",
        "\n",
        "treatments = [\"Capomulin\", \"Ramicane\", \"Infubinol\", \"Ceftamin\"]\n",
        "\n",
        "# Create empty list to fill with tumor vol data (for plotting)\n",
        "\n",
        "tv_data = []\n",
        "\n",
        "# Calculate the IQR and quantitatively determine if there are any potential outliers. \n",
        "\n",
        "\n",
        "    # Locate the rows which contain mice on each drug and get the tumor volumes\n",
        "    \n",
        "    \n",
        "    # add subset \n",
        "    \n",
        "    \n",
        "    # Determine outliers using upper and lower bounds\n",
        "    "
      ],
      "execution_count": 137,
      "outputs": []
    },
    {
      "cell_type": "code",
      "metadata": {
        "id": "zTssltdKXZ9A",
        "colab_type": "code",
        "colab": {
          "base_uri": "https://localhost:8080/",
          "height": 68
        },
        "outputId": "d6b4e906-588c-4e49-e24d-439fcd5e7773"
      },
      "source": [
        "#Capomulin Treatment\n",
        "\n",
        "cap_tv = regimen_cap_df[\"Tumor Volume (mm3)\"]\n",
        "\n",
        "quartiles = cap_tv.quantile([.25,.5,.75])\n",
        "lowerq = quartiles[0.25]\n",
        "upperq = quartiles[0.75]\n",
        "iqr = upperq-lowerq\n",
        "print(f\"The interquartile range of tumor volumes for the Capomulin Treatment is: {iqr}\")\n",
        "\n",
        "lower_bound = lowerq - (1.5*iqr)\n",
        "upper_bound = upperq + (1.5*iqr)\n",
        "print(f\"Values below {lower_bound} could be outliers.\")\n",
        "print(f\"Values above {upper_bound} could be outliers.\")"
      ],
      "execution_count": 119,
      "outputs": [
        {
          "output_type": "stream",
          "text": [
            "The interquartile range of tumor volumes for the Capomulin Treatment is: 7.781863460000004\n",
            "Values below 20.70456164999999 could be outliers.\n",
            "Values above 51.83201549 could be outliers.\n"
          ],
          "name": "stdout"
        }
      ]
    },
    {
      "cell_type": "code",
      "metadata": {
        "id": "D-QxHNDzUp8N",
        "colab_type": "code",
        "colab": {
          "base_uri": "https://localhost:8080/",
          "height": 68
        },
        "outputId": "5796972f-d2ff-4c05-c1b1-b18974c0ab02"
      },
      "source": [
        "#Ramicane Treatment\n",
        "\n",
        "ram_tv = regimen_ram_df[\"Tumor Volume (mm3)\"]\n",
        "\n",
        "r_quartiles = ram_tv.quantile([.25,.5,.75])\n",
        "r_lowerq = r_quartiles[0.25]\n",
        "r_upperq = r_quartiles[0.75]\n",
        "r_iqr = r_upperq-r_lowerq\n",
        "print(f\"The interquartile range of tumor volumes for the Ramicane Treatment is: {r_iqr}\")\n",
        "\n",
        "r_lower_bound = r_lowerq - (1.5*r_iqr)\n",
        "r_upper_bound = r_upperq + (1.5*r_iqr)\n",
        "print(f\"Values below {r_lower_bound} could be outliers.\")\n",
        "print(f\"Values above {r_upper_bound} could be outliers.\")"
      ],
      "execution_count": 127,
      "outputs": [
        {
          "output_type": "stream",
          "text": [
            "The interquartile range of tumor volumes for the Ramicane Treatment is: 9.098536719999998\n",
            "Values below 17.912664470000003 could be outliers.\n",
            "Values above 54.30681135 could be outliers.\n"
          ],
          "name": "stdout"
        }
      ]
    },
    {
      "cell_type": "code",
      "metadata": {
        "id": "WdD2qjUDao8V",
        "colab_type": "code",
        "colab": {
          "base_uri": "https://localhost:8080/",
          "height": 68
        },
        "outputId": "366ba999-10d2-414d-ce82-790a313c89dd"
      },
      "source": [
        "#Infubinol Treatment\n",
        "\n",
        "inf_tv = regimen_inf_df[\"Tumor Volume (mm3)\"]\n",
        "\n",
        "i_quartiles = inf_tv.quantile([.25,.5,.75])\n",
        "i_lowerq = i_quartiles[0.25]\n",
        "i_upperq = i_quartiles[0.75]\n",
        "i_iqr = i_upperq-i_lowerq\n",
        "print(f\"The interquartile range of tumor volumes for the Infubinol Treatment is: {i_iqr}\")\n",
        "\n",
        "i_lower_bound = i_lowerq - (1.5*i_iqr)\n",
        "i_upper_bound = i_upperq + (1.5*i_iqr)\n",
        "print(f\"Values below {i_lower_bound} could be outliers.\")\n",
        "print(f\"Values above {i_upper_bound} could be outliers.\")"
      ],
      "execution_count": 130,
      "outputs": [
        {
          "output_type": "stream",
          "text": [
            "The interquartile range of tumor volumes for the Infubinol Treatment is: 11.477135160000003\n",
            "Values below 36.83290494999999 could be outliers.\n",
            "Values above 82.74144559000001 could be outliers.\n"
          ],
          "name": "stdout"
        }
      ]
    },
    {
      "cell_type": "code",
      "metadata": {
        "id": "414BFGi1aprg",
        "colab_type": "code",
        "colab": {
          "base_uri": "https://localhost:8080/",
          "height": 68
        },
        "outputId": "ee4c94db-2cc5-454b-adf2-258e130b52fe"
      },
      "source": [
        "#Ceftamin Treatment\n",
        "\n",
        "cef_tv = regimen_cef_df[\"Tumor Volume (mm3)\"]\n",
        "\n",
        "c_quartiles = cef_tv.quantile([.25,.5,.75])\n",
        "c_lowerq = c_quartiles[0.25]\n",
        "c_upperq = c_quartiles[0.75]\n",
        "c_iqr = c_upperq-c_lowerq\n",
        "print(f\"The interquartile range of tumor volumes for the Ceftamin Treatment is: {c_iqr}\")\n",
        "\n",
        "c_lower_bound = c_lowerq - (1.5*c_iqr)\n",
        "c_upper_bound = c_upperq + (1.5*c_iqr)\n",
        "print(f\"Values below {c_lower_bound} could be outliers.\")\n",
        "print(f\"Values above {c_upper_bound} could be outliers.\")"
      ],
      "execution_count": 131,
      "outputs": [
        {
          "output_type": "stream",
          "text": [
            "The interquartile range of tumor volumes for the Ceftamin Treatment is: 15.577752179999997\n",
            "Values below 25.355449580000002 could be outliers.\n",
            "Values above 87.66645829999999 could be outliers.\n"
          ],
          "name": "stdout"
        }
      ]
    },
    {
      "cell_type": "code",
      "metadata": {
        "id": "bDQZlGnkKbhs",
        "colab_type": "code",
        "colab": {
          "base_uri": "https://localhost:8080/",
          "height": 295
        },
        "outputId": "09ca453e-2a3a-41ee-c3cc-aa8912ed97ed"
      },
      "source": [
        "# Generate a box plot of the final tumor volume of each mouse across four regimens of interest\n",
        "\n",
        "tv_plot = [cap_tv, ram_tv, inf_tv, cef_tv]\n",
        "\n",
        "fig1, ax1 = plt.subplots()\n",
        "ax1.set_title(\"Final Tumor Vol. by Treatment Regimen\")\n",
        "ax1.set_ylabel(\"Final Tumor Volume (mm3)\")\n",
        "ax1.set_xlabel(\"Drug Regimen\")\n",
        "\n",
        "ax1.boxplot(tv_plot, treatments)\n",
        "\n",
        "plt.show()"
      ],
      "execution_count": 138,
      "outputs": [
        {
          "output_type": "display_data",
          "data": {
            "image/png": "[encoded data removed]",
            "text/plain": [
              "<Figure size 432x288 with 1 Axes>"
            ]
          },
          "metadata": {
            "tags": [],
            "needs_background": "light"
          }
        }
      ]
    },
    {
      "cell_type": "markdown",
      "metadata": {
        "id": "GF1C9RJG6HP_",
        "colab_type": "text"
      },
      "source": [
        "## **Line and Scatter Plots**"
      ]
    },
    {
      "cell_type": "code",
      "metadata": {
        "id": "zk6fWOBDdaWZ",
        "colab_type": "code",
        "colab": {
          "base_uri": "https://localhost:8080/",
          "height": 419
        },
        "outputId": "f104febb-5976-4d5c-c894-3f7afb4442ef"
      },
      "source": [
        "cap_mice = clean_df.loc[clean_df[\"Drug Regimen\"] == \"Capomulin\",:]\n",
        "\n",
        "cap_mice"
      ],
      "execution_count": 149,
      "outputs": [
        {
          "output_type": "execute_result",
          "data": {
            "text/html": [
              "<div>\n",
              "<style scoped>\n",
              "    .dataframe tbody tr th:only-of-type {\n",
              "        vertical-align: middle;\n",
              "    }\n",
              "\n",
              "    .dataframe tbody tr th {\n",
              "        vertical-align: top;\n",
              "    }\n",
              "\n",
              "    .dataframe thead th {\n",
              "        text-align: right;\n",
              "    }\n",
              "</style>\n",
              "<table border=\"1\" class=\"dataframe\">\n",
              "  <thead>\n",
              "    <tr style=\"text-align: right;\">\n",
              "      <th></th>\n",
              "      <th>Mouse ID</th>\n",
              "      <th>Drug Regimen</th>\n",
              "      <th>Sex</th>\n",
              "      <th>Age_months</th>\n",
              "      <th>Weight (g)</th>\n",
              "      <th>Timepoint</th>\n",
              "      <th>Tumor Volume (mm3)</th>\n",
              "      <th>Metastatic Sites</th>\n",
              "    </tr>\n",
              "  </thead>\n",
              "  <tbody>\n",
              "    <tr>\n",
              "      <th>10</th>\n",
              "      <td>s185</td>\n",
              "      <td>Capomulin</td>\n",
              "      <td>Female</td>\n",
              "      <td>3</td>\n",
              "      <td>17</td>\n",
              "      <td>0</td>\n",
              "      <td>45.000000</td>\n",
              "      <td>0</td>\n",
              "    </tr>\n",
              "    <tr>\n",
              "      <th>11</th>\n",
              "      <td>s185</td>\n",
              "      <td>Capomulin</td>\n",
              "      <td>Female</td>\n",
              "      <td>3</td>\n",
              "      <td>17</td>\n",
              "      <td>5</td>\n",
              "      <td>43.878496</td>\n",
              "      <td>0</td>\n",
              "    </tr>\n",
              "    <tr>\n",
              "      <th>12</th>\n",
              "      <td>s185</td>\n",
              "      <td>Capomulin</td>\n",
              "      <td>Female</td>\n",
              "      <td>3</td>\n",
              "      <td>17</td>\n",
              "      <td>10</td>\n",
              "      <td>37.614948</td>\n",
              "      <td>0</td>\n",
              "    </tr>\n",
              "    <tr>\n",
              "      <th>13</th>\n",
              "      <td>s185</td>\n",
              "      <td>Capomulin</td>\n",
              "      <td>Female</td>\n",
              "      <td>3</td>\n",
              "      <td>17</td>\n",
              "      <td>15</td>\n",
              "      <td>38.177232</td>\n",
              "      <td>0</td>\n",
              "    </tr>\n",
              "    <tr>\n",
              "      <th>14</th>\n",
              "      <td>s185</td>\n",
              "      <td>Capomulin</td>\n",
              "      <td>Female</td>\n",
              "      <td>3</td>\n",
              "      <td>17</td>\n",
              "      <td>20</td>\n",
              "      <td>36.866876</td>\n",
              "      <td>0</td>\n",
              "    </tr>\n",
              "    <tr>\n",
              "      <th>...</th>\n",
              "      <td>...</td>\n",
              "      <td>...</td>\n",
              "      <td>...</td>\n",
              "      <td>...</td>\n",
              "      <td>...</td>\n",
              "      <td>...</td>\n",
              "      <td>...</td>\n",
              "      <td>...</td>\n",
              "    </tr>\n",
              "    <tr>\n",
              "      <th>440</th>\n",
              "      <td>i557</td>\n",
              "      <td>Capomulin</td>\n",
              "      <td>Female</td>\n",
              "      <td>1</td>\n",
              "      <td>24</td>\n",
              "      <td>45</td>\n",
              "      <td>47.685963</td>\n",
              "      <td>1</td>\n",
              "    </tr>\n",
              "    <tr>\n",
              "      <th>1452</th>\n",
              "      <td>r157</td>\n",
              "      <td>Capomulin</td>\n",
              "      <td>Male</td>\n",
              "      <td>22</td>\n",
              "      <td>25</td>\n",
              "      <td>0</td>\n",
              "      <td>45.000000</td>\n",
              "      <td>0</td>\n",
              "    </tr>\n",
              "    <tr>\n",
              "      <th>1453</th>\n",
              "      <td>r157</td>\n",
              "      <td>Capomulin</td>\n",
              "      <td>Male</td>\n",
              "      <td>22</td>\n",
              "      <td>25</td>\n",
              "      <td>5</td>\n",
              "      <td>45.597064</td>\n",
              "      <td>0</td>\n",
              "    </tr>\n",
              "    <tr>\n",
              "      <th>1454</th>\n",
              "      <td>r157</td>\n",
              "      <td>Capomulin</td>\n",
              "      <td>Male</td>\n",
              "      <td>22</td>\n",
              "      <td>25</td>\n",
              "      <td>10</td>\n",
              "      <td>46.059608</td>\n",
              "      <td>0</td>\n",
              "    </tr>\n",
              "    <tr>\n",
              "      <th>1455</th>\n",
              "      <td>r157</td>\n",
              "      <td>Capomulin</td>\n",
              "      <td>Male</td>\n",
              "      <td>22</td>\n",
              "      <td>25</td>\n",
              "      <td>15</td>\n",
              "      <td>46.539206</td>\n",
              "      <td>0</td>\n",
              "    </tr>\n",
              "  </tbody>\n",
              "</table>\n",
              "<p>230 rows × 8 columns</p>\n",
              "</div>"
            ],
            "text/plain": [
              "     Mouse ID Drug Regimen  ... Tumor Volume (mm3)  Metastatic Sites\n",
              "10       s185    Capomulin  ...          45.000000                 0\n",
              "11       s185    Capomulin  ...          43.878496                 0\n",
              "12       s185    Capomulin  ...          37.614948                 0\n",
              "13       s185    Capomulin  ...          38.177232                 0\n",
              "14       s185    Capomulin  ...          36.866876                 0\n",
              "...       ...          ...  ...                ...               ...\n",
              "440      i557    Capomulin  ...          47.685963                 1\n",
              "1452     r157    Capomulin  ...          45.000000                 0\n",
              "1453     r157    Capomulin  ...          45.597064                 0\n",
              "1454     r157    Capomulin  ...          46.059608                 0\n",
              "1455     r157    Capomulin  ...          46.539206                 0\n",
              "\n",
              "[230 rows x 8 columns]"
            ]
          },
          "metadata": {
            "tags": []
          },
          "execution_count": 149
        }
      ]
    },
    {
      "cell_type": "code",
      "metadata": {
        "id": "3w_wMHnqKeGX",
        "colab_type": "code",
        "colab": {
          "base_uri": "https://localhost:8080/",
          "height": 295
        },
        "outputId": "6ca2c312-d360-409a-c793-b0e768217a18"
      },
      "source": [
        "# Generate a line plot of time point versus tumor volume for a mouse treated with Capomulin\n",
        "\n",
        "line_df = cap_mice.loc[cap_mice[\"Mouse ID\"] == \"s185\",:]\n",
        "\n",
        "x_axis = line_df[\"Timepoint\"]\n",
        "tumvol = line_df[\"Tumor Volume (mm3)\"]\n",
        "\n",
        "plt.plot(x_axis, tumvol)\n",
        "\n",
        "plt.title(\"Tumor Vol Over Time (Mouse: s185, Regimen: Capomulin\")\n",
        "plt.xlabel(\"Timepoint (Days)\")\n",
        "plt.ylabel(\"Tumor Volume (mm3)\")\n",
        "\n",
        "plt.show()"
      ],
      "execution_count": 160,
      "outputs": [
        {
          "output_type": "display_data",
          "data": {
            "image/png": "[encoded data removed]",
            "text/plain": [
              "<Figure size 432x288 with 1 Axes>"
            ]
          },
          "metadata": {
            "tags": [],
            "needs_background": "light"
          }
        }
      ]
    },
    {
      "cell_type": "code",
      "metadata": {
        "id": "XXVev_dUKglf",
        "colab_type": "code",
        "colab": {
          "base_uri": "https://localhost:8080/",
          "height": 295
        },
        "outputId": "99ae0376-cfc5-4f5f-c9fb-55bf96bd4315"
      },
      "source": [
        "# Generate a scatter plot of mouse weight versus average tumor volume for the Capomulin regimen\n",
        "\n",
        "cap_avg = cap_mice.groupby([\"Mouse ID\"]).mean()\n",
        "\n",
        "plt.scatter(cap_avg[\"Weight (g)\"],cap_avg[\"Tumor Volume (mm3)\"])\n",
        "\n",
        "plt.title(\"Mouse Weight v Tumor Volume\")\n",
        "plt.xlabel(\"Weight (g)\")\n",
        "plt.ylabel(\"Average Tumor Volume (mm3)\")\n",
        "\n",
        "plt.show()\n"
      ],
      "execution_count": 164,
      "outputs": [
        {
          "output_type": "display_data",
          "data": {
            "image/png": "[encoded data removed]",
            "text/plain": [
              "<Figure size 432x288 with 1 Axes>"
            ]
          },
          "metadata": {
            "tags": [],
            "needs_background": "light"
          }
        }
      ]
    },
    {
      "cell_type": "markdown",
      "metadata": {
        "id": "jiqUM8J46Kam",
        "colab_type": "text"
      },
      "source": [
        "## **Correlation and Regression**"
      ]
    },
    {
      "cell_type": "code",
      "metadata": {
        "id": "UEXhXhjoKiuY",
        "colab_type": "code",
        "colab": {
          "base_uri": "https://localhost:8080/",
          "height": 312
        },
        "outputId": "3d8f75a3-ef46-45c5-ec5f-30780d799f5b"
      },
      "source": [
        "# Calculate the correlation coefficient and linear regression model \n",
        "# for mouse weight and average tumor volume for the Capomulin regimen\n",
        "\n",
        "correlation = st.pearsonr(cap_avg['Weight (g)'],cap_avg['Tumor Volume (mm3)'])\n",
        "print(f\"The correlation between mouse weight and average tumor volume is {round(correlation[0],2)}\")\n",
        "\n",
        "weight = cap_avg[\"Weight (g)\"]\n",
        "tumor_vol = cap_avg[\"Tumor Volume (mm3)\"]\n",
        "\n",
        "(slope, intercept, rvalue, pvalue, stderr) = stats.linregress(weight, tumor_vol)\n",
        "regress_values = weight * slope + intercept\n",
        "\n",
        "plt.scatter(cap_avg[\"Weight (g)\"],cap_avg[\"Tumor Volume (mm3)\"])\n",
        "plt.plot(weight, regress_values, \"r-\")\n",
        "plt.title(\"Mouse Weight v Tumor Volume\")\n",
        "plt.xlabel(\"Weight (g)\")\n",
        "plt.ylabel(\"Average Tumor Volume (mm3)\")\n",
        "\n",
        "plt.show()\n"
      ],
      "execution_count": 177,
      "outputs": [
        {
          "output_type": "stream",
          "text": [
            "The correlation between mouse weight and average tumor volume is 0.84\n"
          ],
          "name": "stdout"
        },
        {
          "output_type": "display_data",
          "data": {
            "image/png": "[encoded data removed]",
            "text/plain": [
              "<Figure size 432x288 with 1 Axes>"
            ]
          },
          "metadata": {
            "tags": [],
            "needs_background": "light"
          }
        }
      ]
    },
    {
      "cell_type": "code",
      "metadata": {
        "id": "DZpFgChBnjHX",
        "colab_type": "code",
        "colab": {}
      },
      "source": [
        ""
      ],
      "execution_count": null,
      "outputs": []
    }
  ]
}